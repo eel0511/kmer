{
 "cells": [
  {
   "cell_type": "code",
   "execution_count": 3,
   "metadata": {},
   "outputs": [],
   "source": [
    "import numpy as np\n",
    "import seaborn as sns\n",
    "from sklearn.manifold import TSNE\n",
    "import matplotlib.pyplot as plt\n",
    "import pandas as pd\n",
    "import matplotlib.font_manager as fm\n",
    "import random as rd\n",
    "from Bio import SeqIO"
   ]
  },
  {
   "cell_type": "markdown",
   "metadata": {},
   "source": [
    "# 벡터화된 Data input"
   ]
  },
  {
   "cell_type": "code",
   "execution_count": 4,
   "metadata": {},
   "outputs": [],
   "source": [
    "#4-mer 변환을 거침\n",
    "vi = np.loadtxt(\"virus_tr.txt\") \n",
    "vi2 = np.loadtxt(\"vi2.txt\")\n",
    "vi3 = np.loadtxt(\"vi3.txt\")"
   ]
  },
  {
   "cell_type": "markdown",
   "metadata": {},
   "source": [
    "# 세균2개와 바이러스1개가 합쳐진 Dataset생성"
   ]
  },
  {
   "cell_type": "code",
   "execution_count": 5,
   "metadata": {},
   "outputs": [],
   "source": [
    "#데이터를 3개합침\n",
    "X = np.r_[vi2,vi3]\n",
    "X = np.r_[X,vi]"
   ]
  },
  {
   "cell_type": "markdown",
   "metadata": {},
   "source": [
    "# K-mean Clustering"
   ]
  },
  {
   "cell_type": "code",
   "execution_count": 6,
   "metadata": {},
   "outputs": [
    {
     "name": "stdout",
     "output_type": "stream",
     "text": [
      "(300, 136)\n"
     ]
    }
   ],
   "source": [
    "m=X.shape[0] \n",
    "n=X.shape[1] \n",
    "K=3# 클러스터 개수\n",
    "n_iter=100 # 반복 횟수\n",
    "Centroids=np.array([]).reshape(n,0) # 클러스터 중심 초기화\n",
    "for i in range(K): \n",
    "    rand=rd.randint(0,m-1)\n",
    "    Centroids=np.c_[Centroids,X[rand]] # 클러스터 중심(열) 추가\n",
    "\n",
    "print(X.shape) # 4mer로 했기때문에 136개의 Y값"
   ]
  },
  {
   "cell_type": "code",
   "execution_count": 7,
   "metadata": {},
   "outputs": [],
   "source": [
    "Output={} # 출력값\n",
    "# 유클리드 거리 초기화\n",
    "EuclidianDistance=np.array([]).reshape(m,0)\n",
    "Centroids[:,0]\n",
    "tempDist = np.sum((X-Centroids[:,0])**2,axis=1)\n",
    "#tempDist "
   ]
  },
  {
   "cell_type": "code",
   "execution_count": 8,
   "metadata": {},
   "outputs": [],
   "source": [
    "for i in range(n_iter):\n",
    "    # 유클리드 거리가 최소가 되는 K 클러스터 할당\n",
    "    EuclidianDistance=np.array([]).reshape(m,0)\n",
    "    for k in range(K):\n",
    "        tempDist=np.sum((X-Centroids[:,k])**2,axis=1)\n",
    "        EuclidianDistance=np.c_[EuclidianDistance,tempDist] \n",
    "    C=np.argmin(EuclidianDistance,axis=1)+1\n",
    "    # K 클러스터 갱신\n",
    "    Y={}\n",
    "    for k in range(K):\n",
    "        Y[k+1]=np.array([]).reshape(136,0) # Y 딕셔너리 키, 값 할당\n",
    "    for i in range(m):\n",
    "        Y[C[i]]=np.c_[Y[C[i]],X[i]] \n",
    "    for k in range(K):\n",
    "        Y[k+1]=Y[k+1].T # 전치행렬\n",
    "    for k in range(K):\n",
    "        Centroids[:,k]=np.mean(Y[k+1],axis=0) # K 클러스터 중심 갱신\n",
    "    Output=Y\n",
    "    \n"
   ]
  },
  {
   "cell_type": "markdown",
   "metadata": {},
   "source": [
    "# Clustering완료후 결과 분석"
   ]
  },
  {
   "cell_type": "code",
   "execution_count": 9,
   "metadata": {},
   "outputs": [
    {
     "name": "stdout",
     "output_type": "stream",
     "text": [
      "Clustering 1 개수  70\n",
      "X[ 18 ] == Output[ 1 ][ 0 ]\n",
      "X[ 143 ] == Output[ 1 ][ 1 ]\n",
      "X[ 202 ] == Output[ 1 ][ 2 ]\n",
      "X[ 204 ] == Output[ 1 ][ 3 ]\n",
      "X[ 205 ] == Output[ 1 ][ 4 ]\n",
      "X[ 206 ] == Output[ 1 ][ 5 ]\n",
      "X[ 207 ] == Output[ 1 ][ 6 ]\n",
      "X[ 208 ] == Output[ 1 ][ 7 ]\n",
      "X[ 213 ] == Output[ 1 ][ 8 ]\n",
      "X[ 216 ] == Output[ 1 ][ 9 ]\n",
      "X[ 217 ] == Output[ 1 ][ 10 ]\n",
      "X[ 219 ] == Output[ 1 ][ 11 ]\n",
      "X[ 220 ] == Output[ 1 ][ 12 ]\n",
      "X[ 221 ] == Output[ 1 ][ 13 ]\n",
      "X[ 224 ] == Output[ 1 ][ 14 ]\n",
      "X[ 225 ] == Output[ 1 ][ 15 ]\n",
      "X[ 226 ] == Output[ 1 ][ 16 ]\n",
      "X[ 227 ] == Output[ 1 ][ 17 ]\n",
      "X[ 228 ] == Output[ 1 ][ 18 ]\n",
      "X[ 229 ] == Output[ 1 ][ 19 ]\n",
      "X[ 233 ] == Output[ 1 ][ 20 ]\n",
      "X[ 234 ] == Output[ 1 ][ 21 ]\n",
      "X[ 235 ] == Output[ 1 ][ 22 ]\n",
      "X[ 236 ] == Output[ 1 ][ 23 ]\n",
      "X[ 237 ] == Output[ 1 ][ 24 ]\n",
      "X[ 239 ] == Output[ 1 ][ 25 ]\n",
      "X[ 240 ] == Output[ 1 ][ 26 ]\n",
      "X[ 242 ] == Output[ 1 ][ 27 ]\n",
      "X[ 243 ] == Output[ 1 ][ 28 ]\n",
      "X[ 244 ] == Output[ 1 ][ 29 ]\n",
      "X[ 245 ] == Output[ 1 ][ 30 ]\n",
      "X[ 248 ] == Output[ 1 ][ 31 ]\n",
      "X[ 249 ] == Output[ 1 ][ 32 ]\n",
      "X[ 251 ] == Output[ 1 ][ 33 ]\n",
      "X[ 254 ] == Output[ 1 ][ 34 ]\n",
      "X[ 255 ] == Output[ 1 ][ 35 ]\n",
      "X[ 256 ] == Output[ 1 ][ 36 ]\n",
      "X[ 257 ] == Output[ 1 ][ 37 ]\n",
      "X[ 258 ] == Output[ 1 ][ 38 ]\n",
      "X[ 259 ] == Output[ 1 ][ 39 ]\n",
      "X[ 260 ] == Output[ 1 ][ 40 ]\n",
      "X[ 261 ] == Output[ 1 ][ 41 ]\n",
      "X[ 264 ] == Output[ 1 ][ 42 ]\n",
      "X[ 265 ] == Output[ 1 ][ 43 ]\n",
      "X[ 266 ] == Output[ 1 ][ 44 ]\n",
      "X[ 269 ] == Output[ 1 ][ 45 ]\n",
      "X[ 270 ] == Output[ 1 ][ 46 ]\n",
      "X[ 271 ] == Output[ 1 ][ 47 ]\n",
      "X[ 272 ] == Output[ 1 ][ 48 ]\n",
      "X[ 274 ] == Output[ 1 ][ 49 ]\n",
      "X[ 275 ] == Output[ 1 ][ 50 ]\n",
      "X[ 276 ] == Output[ 1 ][ 51 ]\n",
      "X[ 277 ] == Output[ 1 ][ 52 ]\n",
      "X[ 278 ] == Output[ 1 ][ 53 ]\n",
      "X[ 279 ] == Output[ 1 ][ 54 ]\n",
      "X[ 280 ] == Output[ 1 ][ 55 ]\n",
      "X[ 281 ] == Output[ 1 ][ 56 ]\n",
      "X[ 283 ] == Output[ 1 ][ 57 ]\n",
      "X[ 285 ] == Output[ 1 ][ 58 ]\n",
      "X[ 286 ] == Output[ 1 ][ 59 ]\n",
      "X[ 288 ] == Output[ 1 ][ 60 ]\n",
      "X[ 289 ] == Output[ 1 ][ 61 ]\n",
      "X[ 290 ] == Output[ 1 ][ 62 ]\n",
      "X[ 291 ] == Output[ 1 ][ 63 ]\n",
      "X[ 292 ] == Output[ 1 ][ 64 ]\n",
      "X[ 293 ] == Output[ 1 ][ 65 ]\n",
      "X[ 294 ] == Output[ 1 ][ 66 ]\n",
      "X[ 295 ] == Output[ 1 ][ 67 ]\n",
      "X[ 297 ] == Output[ 1 ][ 68 ]\n",
      "X[ 299 ] == Output[ 1 ][ 69 ]\n",
      "Clustering 2 개수  105\n",
      "X[ 0 ] == Output[ 2 ][ 0 ]\n",
      "X[ 1 ] == Output[ 2 ][ 1 ]\n",
      "X[ 2 ] == Output[ 2 ][ 2 ]\n",
      "X[ 3 ] == Output[ 2 ][ 3 ]\n",
      "X[ 4 ] == Output[ 2 ][ 4 ]\n",
      "X[ 5 ] == Output[ 2 ][ 5 ]\n",
      "X[ 6 ] == Output[ 2 ][ 6 ]\n",
      "X[ 7 ] == Output[ 2 ][ 7 ]\n",
      "X[ 8 ] == Output[ 2 ][ 8 ]\n",
      "X[ 9 ] == Output[ 2 ][ 9 ]\n",
      "X[ 10 ] == Output[ 2 ][ 10 ]\n",
      "X[ 11 ] == Output[ 2 ][ 11 ]\n",
      "X[ 12 ] == Output[ 2 ][ 12 ]\n",
      "X[ 13 ] == Output[ 2 ][ 13 ]\n",
      "X[ 14 ] == Output[ 2 ][ 14 ]\n",
      "X[ 15 ] == Output[ 2 ][ 15 ]\n",
      "X[ 16 ] == Output[ 2 ][ 16 ]\n",
      "X[ 17 ] == Output[ 2 ][ 17 ]\n",
      "X[ 19 ] == Output[ 2 ][ 18 ]\n",
      "X[ 20 ] == Output[ 2 ][ 19 ]\n",
      "X[ 21 ] == Output[ 2 ][ 20 ]\n",
      "X[ 22 ] == Output[ 2 ][ 21 ]\n",
      "X[ 23 ] == Output[ 2 ][ 22 ]\n",
      "X[ 24 ] == Output[ 2 ][ 23 ]\n",
      "X[ 25 ] == Output[ 2 ][ 24 ]\n",
      "X[ 26 ] == Output[ 2 ][ 25 ]\n",
      "X[ 27 ] == Output[ 2 ][ 26 ]\n",
      "X[ 28 ] == Output[ 2 ][ 27 ]\n",
      "X[ 29 ] == Output[ 2 ][ 28 ]\n",
      "X[ 30 ] == Output[ 2 ][ 29 ]\n",
      "X[ 31 ] == Output[ 2 ][ 30 ]\n",
      "X[ 32 ] == Output[ 2 ][ 31 ]\n",
      "X[ 33 ] == Output[ 2 ][ 32 ]\n",
      "X[ 34 ] == Output[ 2 ][ 33 ]\n",
      "X[ 35 ] == Output[ 2 ][ 34 ]\n",
      "X[ 36 ] == Output[ 2 ][ 35 ]\n",
      "X[ 37 ] == Output[ 2 ][ 36 ]\n",
      "X[ 38 ] == Output[ 2 ][ 37 ]\n",
      "X[ 39 ] == Output[ 2 ][ 38 ]\n",
      "X[ 40 ] == Output[ 2 ][ 39 ]\n",
      "X[ 41 ] == Output[ 2 ][ 40 ]\n",
      "X[ 42 ] == Output[ 2 ][ 41 ]\n",
      "X[ 43 ] == Output[ 2 ][ 42 ]\n",
      "X[ 44 ] == Output[ 2 ][ 43 ]\n",
      "X[ 45 ] == Output[ 2 ][ 44 ]\n",
      "X[ 46 ] == Output[ 2 ][ 45 ]\n",
      "X[ 47 ] == Output[ 2 ][ 46 ]\n",
      "X[ 48 ] == Output[ 2 ][ 47 ]\n",
      "X[ 49 ] == Output[ 2 ][ 48 ]\n",
      "X[ 50 ] == Output[ 2 ][ 49 ]\n",
      "X[ 51 ] == Output[ 2 ][ 50 ]\n",
      "X[ 52 ] == Output[ 2 ][ 51 ]\n",
      "X[ 53 ] == Output[ 2 ][ 52 ]\n",
      "X[ 54 ] == Output[ 2 ][ 53 ]\n",
      "X[ 55 ] == Output[ 2 ][ 54 ]\n",
      "X[ 56 ] == Output[ 2 ][ 55 ]\n",
      "X[ 57 ] == Output[ 2 ][ 56 ]\n",
      "X[ 58 ] == Output[ 2 ][ 57 ]\n",
      "X[ 59 ] == Output[ 2 ][ 58 ]\n",
      "X[ 60 ] == Output[ 2 ][ 59 ]\n",
      "X[ 61 ] == Output[ 2 ][ 60 ]\n",
      "X[ 62 ] == Output[ 2 ][ 61 ]\n",
      "X[ 63 ] == Output[ 2 ][ 62 ]\n",
      "X[ 64 ] == Output[ 2 ][ 63 ]\n",
      "X[ 65 ] == Output[ 2 ][ 64 ]\n",
      "X[ 66 ] == Output[ 2 ][ 65 ]\n",
      "X[ 67 ] == Output[ 2 ][ 66 ]\n",
      "X[ 68 ] == Output[ 2 ][ 67 ]\n",
      "X[ 69 ] == Output[ 2 ][ 68 ]\n",
      "X[ 70 ] == Output[ 2 ][ 69 ]\n",
      "X[ 71 ] == Output[ 2 ][ 70 ]\n",
      "X[ 72 ] == Output[ 2 ][ 71 ]\n",
      "X[ 73 ] == Output[ 2 ][ 72 ]\n",
      "X[ 74 ] == Output[ 2 ][ 73 ]\n",
      "X[ 75 ] == Output[ 2 ][ 74 ]\n",
      "X[ 76 ] == Output[ 2 ][ 75 ]\n",
      "X[ 77 ] == Output[ 2 ][ 76 ]\n",
      "X[ 78 ] == Output[ 2 ][ 77 ]\n",
      "X[ 79 ] == Output[ 2 ][ 78 ]\n",
      "X[ 80 ] == Output[ 2 ][ 79 ]\n",
      "X[ 81 ] == Output[ 2 ][ 80 ]\n",
      "X[ 82 ] == Output[ 2 ][ 81 ]\n",
      "X[ 83 ] == Output[ 2 ][ 82 ]\n",
      "X[ 84 ] == Output[ 2 ][ 83 ]\n",
      "X[ 85 ] == Output[ 2 ][ 84 ]\n",
      "X[ 86 ] == Output[ 2 ][ 85 ]\n",
      "X[ 87 ] == Output[ 2 ][ 86 ]\n",
      "X[ 88 ] == Output[ 2 ][ 87 ]\n",
      "X[ 89 ] == Output[ 2 ][ 88 ]\n",
      "X[ 90 ] == Output[ 2 ][ 89 ]\n",
      "X[ 91 ] == Output[ 2 ][ 90 ]\n",
      "X[ 92 ] == Output[ 2 ][ 91 ]\n",
      "X[ 93 ] == Output[ 2 ][ 92 ]\n",
      "X[ 94 ] == Output[ 2 ][ 93 ]\n",
      "X[ 95 ] == Output[ 2 ][ 94 ]\n",
      "X[ 96 ] == Output[ 2 ][ 95 ]\n",
      "X[ 97 ] == Output[ 2 ][ 96 ]\n",
      "X[ 98 ] == Output[ 2 ][ 97 ]\n",
      "X[ 99 ] == Output[ 2 ][ 98 ]\n",
      "X[ 211 ] == Output[ 2 ][ 99 ]\n",
      "X[ 212 ] == Output[ 2 ][ 100 ]\n",
      "X[ 218 ] == Output[ 2 ][ 101 ]\n",
      "X[ 252 ] == Output[ 2 ][ 102 ]\n",
      "X[ 253 ] == Output[ 2 ][ 103 ]\n",
      "X[ 263 ] == Output[ 2 ][ 104 ]\n",
      "Clustering 3 개수  125\n",
      "X[ 100 ] == Output[ 3 ][ 0 ]\n",
      "X[ 101 ] == Output[ 3 ][ 1 ]\n",
      "X[ 102 ] == Output[ 3 ][ 2 ]\n",
      "X[ 103 ] == Output[ 3 ][ 3 ]\n",
      "X[ 104 ] == Output[ 3 ][ 4 ]\n",
      "X[ 105 ] == Output[ 3 ][ 5 ]\n",
      "X[ 106 ] == Output[ 3 ][ 6 ]\n",
      "X[ 107 ] == Output[ 3 ][ 7 ]\n",
      "X[ 108 ] == Output[ 3 ][ 8 ]\n",
      "X[ 109 ] == Output[ 3 ][ 9 ]\n",
      "X[ 110 ] == Output[ 3 ][ 10 ]\n",
      "X[ 111 ] == Output[ 3 ][ 11 ]\n",
      "X[ 112 ] == Output[ 3 ][ 12 ]\n",
      "X[ 113 ] == Output[ 3 ][ 13 ]\n",
      "X[ 114 ] == Output[ 3 ][ 14 ]\n",
      "X[ 115 ] == Output[ 3 ][ 15 ]\n",
      "X[ 116 ] == Output[ 3 ][ 16 ]\n",
      "X[ 117 ] == Output[ 3 ][ 17 ]\n",
      "X[ 118 ] == Output[ 3 ][ 18 ]\n",
      "X[ 119 ] == Output[ 3 ][ 19 ]\n",
      "X[ 120 ] == Output[ 3 ][ 20 ]\n",
      "X[ 121 ] == Output[ 3 ][ 21 ]\n",
      "X[ 122 ] == Output[ 3 ][ 22 ]\n",
      "X[ 123 ] == Output[ 3 ][ 23 ]\n",
      "X[ 124 ] == Output[ 3 ][ 24 ]\n",
      "X[ 125 ] == Output[ 3 ][ 25 ]\n",
      "X[ 126 ] == Output[ 3 ][ 26 ]\n",
      "X[ 127 ] == Output[ 3 ][ 27 ]\n",
      "X[ 128 ] == Output[ 3 ][ 28 ]\n",
      "X[ 129 ] == Output[ 3 ][ 29 ]\n",
      "X[ 130 ] == Output[ 3 ][ 30 ]\n",
      "X[ 131 ] == Output[ 3 ][ 31 ]\n",
      "X[ 132 ] == Output[ 3 ][ 32 ]\n",
      "X[ 133 ] == Output[ 3 ][ 33 ]\n",
      "X[ 134 ] == Output[ 3 ][ 34 ]\n",
      "X[ 135 ] == Output[ 3 ][ 35 ]\n",
      "X[ 136 ] == Output[ 3 ][ 36 ]\n",
      "X[ 137 ] == Output[ 3 ][ 37 ]\n",
      "X[ 138 ] == Output[ 3 ][ 38 ]\n",
      "X[ 139 ] == Output[ 3 ][ 39 ]\n",
      "X[ 140 ] == Output[ 3 ][ 40 ]\n",
      "X[ 141 ] == Output[ 3 ][ 41 ]\n",
      "X[ 142 ] == Output[ 3 ][ 42 ]\n",
      "X[ 144 ] == Output[ 3 ][ 43 ]\n",
      "X[ 145 ] == Output[ 3 ][ 44 ]\n",
      "X[ 146 ] == Output[ 3 ][ 45 ]\n",
      "X[ 147 ] == Output[ 3 ][ 46 ]\n",
      "X[ 148 ] == Output[ 3 ][ 47 ]\n",
      "X[ 149 ] == Output[ 3 ][ 48 ]\n",
      "X[ 150 ] == Output[ 3 ][ 49 ]\n",
      "X[ 151 ] == Output[ 3 ][ 50 ]\n",
      "X[ 152 ] == Output[ 3 ][ 51 ]\n",
      "X[ 153 ] == Output[ 3 ][ 52 ]\n",
      "X[ 154 ] == Output[ 3 ][ 53 ]\n",
      "X[ 155 ] == Output[ 3 ][ 54 ]\n",
      "X[ 156 ] == Output[ 3 ][ 55 ]\n",
      "X[ 157 ] == Output[ 3 ][ 56 ]\n",
      "X[ 158 ] == Output[ 3 ][ 57 ]\n",
      "X[ 159 ] == Output[ 3 ][ 58 ]\n",
      "X[ 160 ] == Output[ 3 ][ 59 ]\n",
      "X[ 161 ] == Output[ 3 ][ 60 ]\n",
      "X[ 162 ] == Output[ 3 ][ 61 ]\n",
      "X[ 163 ] == Output[ 3 ][ 62 ]\n",
      "X[ 164 ] == Output[ 3 ][ 63 ]\n",
      "X[ 165 ] == Output[ 3 ][ 64 ]\n",
      "X[ 166 ] == Output[ 3 ][ 65 ]\n",
      "X[ 167 ] == Output[ 3 ][ 66 ]\n",
      "X[ 168 ] == Output[ 3 ][ 67 ]\n",
      "X[ 169 ] == Output[ 3 ][ 68 ]\n",
      "X[ 170 ] == Output[ 3 ][ 69 ]\n",
      "X[ 171 ] == Output[ 3 ][ 70 ]\n",
      "X[ 172 ] == Output[ 3 ][ 71 ]\n",
      "X[ 173 ] == Output[ 3 ][ 72 ]\n",
      "X[ 174 ] == Output[ 3 ][ 73 ]\n",
      "X[ 175 ] == Output[ 3 ][ 74 ]\n",
      "X[ 176 ] == Output[ 3 ][ 75 ]\n",
      "X[ 177 ] == Output[ 3 ][ 76 ]\n",
      "X[ 178 ] == Output[ 3 ][ 77 ]\n",
      "X[ 179 ] == Output[ 3 ][ 78 ]\n",
      "X[ 180 ] == Output[ 3 ][ 79 ]\n",
      "X[ 181 ] == Output[ 3 ][ 80 ]\n",
      "X[ 182 ] == Output[ 3 ][ 81 ]\n",
      "X[ 183 ] == Output[ 3 ][ 82 ]\n",
      "X[ 184 ] == Output[ 3 ][ 83 ]\n",
      "X[ 185 ] == Output[ 3 ][ 84 ]\n",
      "X[ 186 ] == Output[ 3 ][ 85 ]\n",
      "X[ 187 ] == Output[ 3 ][ 86 ]\n",
      "X[ 188 ] == Output[ 3 ][ 87 ]\n",
      "X[ 189 ] == Output[ 3 ][ 88 ]\n",
      "X[ 190 ] == Output[ 3 ][ 89 ]\n",
      "X[ 191 ] == Output[ 3 ][ 90 ]\n",
      "X[ 192 ] == Output[ 3 ][ 91 ]\n",
      "X[ 193 ] == Output[ 3 ][ 92 ]\n",
      "X[ 194 ] == Output[ 3 ][ 93 ]\n",
      "X[ 195 ] == Output[ 3 ][ 94 ]\n",
      "X[ 196 ] == Output[ 3 ][ 95 ]\n",
      "X[ 197 ] == Output[ 3 ][ 96 ]\n",
      "X[ 198 ] == Output[ 3 ][ 97 ]\n",
      "X[ 199 ] == Output[ 3 ][ 98 ]\n",
      "X[ 200 ] == Output[ 3 ][ 99 ]\n",
      "X[ 201 ] == Output[ 3 ][ 100 ]\n",
      "X[ 203 ] == Output[ 3 ][ 101 ]\n",
      "X[ 209 ] == Output[ 3 ][ 102 ]\n",
      "X[ 210 ] == Output[ 3 ][ 103 ]\n",
      "X[ 214 ] == Output[ 3 ][ 104 ]\n",
      "X[ 215 ] == Output[ 3 ][ 105 ]\n",
      "X[ 222 ] == Output[ 3 ][ 106 ]\n",
      "X[ 223 ] == Output[ 3 ][ 107 ]\n",
      "X[ 230 ] == Output[ 3 ][ 108 ]\n",
      "X[ 231 ] == Output[ 3 ][ 109 ]\n",
      "X[ 232 ] == Output[ 3 ][ 110 ]\n",
      "X[ 238 ] == Output[ 3 ][ 111 ]\n",
      "X[ 241 ] == Output[ 3 ][ 112 ]\n",
      "X[ 246 ] == Output[ 3 ][ 113 ]\n",
      "X[ 247 ] == Output[ 3 ][ 114 ]\n",
      "X[ 250 ] == Output[ 3 ][ 115 ]\n",
      "X[ 262 ] == Output[ 3 ][ 116 ]\n",
      "X[ 267 ] == Output[ 3 ][ 117 ]\n",
      "X[ 268 ] == Output[ 3 ][ 118 ]\n",
      "X[ 273 ] == Output[ 3 ][ 119 ]\n",
      "X[ 282 ] == Output[ 3 ][ 120 ]\n",
      "X[ 284 ] == Output[ 3 ][ 121 ]\n",
      "X[ 287 ] == Output[ 3 ][ 122 ]\n",
      "X[ 296 ] == Output[ 3 ][ 123 ]\n",
      "X[ 298 ] == Output[ 3 ][ 124 ]\n",
      "300\n"
     ]
    }
   ],
   "source": [
    "#X의 어떤 contig가 어디로 분류되었는지 출력\n",
    "\n",
    "cnt=0\n",
    "for k in range(1,4): \n",
    "    print(\"Clustering\",k,\"개수 \",len(Output[k]))\n",
    "    for i in range(len(Output[k])): \n",
    "        \n",
    "        for a in range(len(X)):\n",
    "\n",
    "            if np.array_equal(X[a],Output[k][i]) == True:\n",
    "\n",
    "                print(\"X[\",a,\"] == Output[\",k ,\"][\", i,\"]\")\n",
    "                cnt+=1\n",
    "print(cnt)\n",
    "\n"
   ]
  },
  {
   "cell_type": "code",
   "execution_count": 10,
   "metadata": {},
   "outputs": [
    {
     "name": "stdout",
     "output_type": "stream",
     "text": [
      "Clustering 1 개수  70\n",
      "Output[ 1 ][ 0 ] ==  chromosome=k99_1631130_flag=1_multi=1.0263_len=10143\n",
      "Clustering 2 개수  105\n",
      "Output[ 2 ][ 0 ] ==  chromosome=k99_4269318_flag=0_multi=1.0082_len=17357\n",
      "Output[ 2 ][ 1 ] ==  chromosome=k99_2011833_flag=0_multi=1.0018_len=10088\n",
      "Output[ 2 ][ 2 ] ==  chromosome=k99_3641453_flag=0_multi=1.0060_len=24284\n",
      "Output[ 2 ][ 3 ] ==  chromosome=k99_503308_flag=0_multi=1.0077_len=12383\n",
      "Output[ 2 ][ 4 ] ==  chromosome=k99_4605346_flag=1_multi=1.0005_len=83030\n",
      "Output[ 2 ][ 5 ] ==  chromosome=k99_630168_flag=0_multi=1.0036_len=5940\n",
      "Output[ 2 ][ 6 ] ==  chromosome=k99_3146727_flag=0_multi=1.0105_len=30748\n",
      "Output[ 2 ][ 7 ] ==  chromosome=k99_795898_flag=0_multi=1.0200_len=8991\n",
      "Output[ 2 ][ 8 ] ==  chromosome=k99_4605346_flag=1_multi=1.0005_len=83030\n",
      "Output[ 2 ][ 9 ] ==  chromosome=k99_503308_flag=0_multi=1.0077_len=12383\n",
      "Output[ 2 ][ 10 ] ==  chromosome=k99_4269318_flag=0_multi=1.0082_len=17357\n",
      "Output[ 2 ][ 11 ] ==  chromosome=k99_2661351_flag=1_multi=1.0309_len=6637\n",
      "Output[ 2 ][ 12 ] ==  chromosome=k99_866505_flag=0_multi=1.0125_len=22958\n",
      "Output[ 2 ][ 13 ] ==  chromosome=k99_4611479_flag=1_multi=1.0000_len=6272\n",
      "Output[ 2 ][ 14 ] ==  chromosome=k99_4605346_flag=1_multi=1.0005_len=83030\n",
      "Output[ 2 ][ 15 ] ==  chromosome=k99_4269318_flag=0_multi=1.0082_len=17357\n",
      "Output[ 2 ][ 16 ] ==  chromosome=k99_4605346_flag=1_multi=1.0005_len=83030\n",
      "Output[ 2 ][ 17 ] ==  chromosome=k99_3641453_flag=0_multi=1.0060_len=24284\n",
      "Output[ 2 ][ 18 ] ==  chromosome=k99_2146180_flag=0_multi=1.0008_len=22324\n",
      "Output[ 2 ][ 19 ] ==  chromosome=k99_671203_flag=0_multi=1.0968_len=3623\n",
      "Output[ 2 ][ 20 ] ==  chromosome=k99_4605346_flag=1_multi=1.0005_len=83030\n",
      "Output[ 2 ][ 21 ] ==  chromosome=k99_4269318_flag=0_multi=1.0082_len=17357\n",
      "Output[ 2 ][ 22 ] ==  chromosome=k99_3206664_flag=0_multi=1.0046_len=7910\n",
      "Output[ 2 ][ 23 ] ==  chromosome=k99_1903301_flag=0_multi=1.0062_len=7076\n",
      "Output[ 2 ][ 24 ] ==  chromosome=k99_934956_flag=0_multi=1.0120_len=19779\n",
      "Output[ 2 ][ 25 ] ==  chromosome=k99_934956_flag=0_multi=1.0120_len=19779\n",
      "Output[ 2 ][ 26 ] ==  chromosome=k99_2146180_flag=0_multi=1.0008_len=22324\n",
      "Output[ 2 ][ 27 ] ==  chromosome=k99_4605346_flag=1_multi=1.0005_len=83030\n",
      "Output[ 2 ][ 28 ] ==  chromosome=k99_2146180_flag=0_multi=1.0008_len=22324\n",
      "Output[ 2 ][ 29 ] ==  chromosome=k99_4520441_flag=1_multi=1.0000_len=8007\n",
      "Output[ 2 ][ 30 ] ==  chromosome=k99_1859259_flag=0_multi=1.0398_len=7692\n",
      "Output[ 2 ][ 31 ] ==  chromosome=k99_2597729_flag=0_multi=1.0003_len=5970\n",
      "Output[ 2 ][ 32 ] ==  chromosome=k99_3146727_flag=0_multi=1.0105_len=30748\n",
      "Output[ 2 ][ 33 ] ==  chromosome=k99_3641453_flag=0_multi=1.0060_len=24284\n",
      "Output[ 2 ][ 34 ] ==  chromosome=k99_4605346_flag=1_multi=1.0005_len=83030\n",
      "Output[ 2 ][ 35 ] ==  chromosome=k99_3146727_flag=0_multi=1.0105_len=30748\n",
      "Output[ 2 ][ 36 ] ==  chromosome=k99_3146727_flag=0_multi=1.0105_len=30748\n",
      "Output[ 2 ][ 37 ] ==  chromosome=k99_503308_flag=0_multi=1.0077_len=12383\n",
      "Output[ 2 ][ 38 ] ==  chromosome=k99_2146180_flag=0_multi=1.0008_len=22324\n",
      "Output[ 2 ][ 39 ] ==  chromosome=k99_4605346_flag=1_multi=1.0005_len=83030\n",
      "Output[ 2 ][ 40 ] ==  chromosome=k99_2905569_flag=0_multi=1.0053_len=17050\n",
      "Output[ 2 ][ 41 ] ==  chromosome=k99_1292454_flag=1_multi=1.0000_len=6329\n",
      "Output[ 2 ][ 42 ] ==  chromosome=k99_4605346_flag=1_multi=1.0005_len=83030\n",
      "Output[ 2 ][ 43 ] ==  chromosome=k99_342695_flag=0_multi=1.0249_len=15268\n",
      "Output[ 2 ][ 44 ] ==  chromosome=k99_2146180_flag=0_multi=1.0008_len=22324\n",
      "Output[ 2 ][ 45 ] ==  chromosome=k99_4269318_flag=0_multi=1.0082_len=17357\n",
      "Output[ 2 ][ 46 ] ==  chromosome=k99_3899837_flag=0_multi=1.0000_len=12142\n",
      "Output[ 2 ][ 47 ] ==  chromosome=k99_4494338_flag=0_multi=1.0017_len=10701\n",
      "Output[ 2 ][ 48 ] ==  chromosome=k99_3146727_flag=0_multi=1.0105_len=30748\n",
      "Output[ 2 ][ 49 ] ==  chromosome=k99_2905569_flag=0_multi=1.0053_len=17050\n",
      "Output[ 2 ][ 50 ] ==  chromosome=k99_4605346_flag=1_multi=1.0005_len=83030\n",
      "Output[ 2 ][ 51 ] ==  chromosome=k99_2551878_flag=0_multi=1.0094_len=5867\n",
      "Output[ 2 ][ 52 ] ==  chromosome=k99_1186120_flag=1_multi=1.0058_len=6309\n",
      "Output[ 2 ][ 53 ] ==  chromosome=k99_4605346_flag=1_multi=1.0005_len=83030\n",
      "Output[ 2 ][ 54 ] ==  chromosome=k99_3641453_flag=0_multi=1.0060_len=24284\n",
      "Output[ 2 ][ 55 ] ==  chromosome=k99_342695_flag=0_multi=1.0249_len=15268\n",
      "Output[ 2 ][ 56 ] ==  chromosome=k99_3641453_flag=0_multi=1.0060_len=24284\n",
      "Output[ 2 ][ 57 ] ==  chromosome=k99_3641453_flag=0_multi=1.0060_len=24284\n",
      "Output[ 2 ][ 58 ] ==  chromosome=k99_1292454_flag=1_multi=1.0000_len=6329\n",
      "Output[ 2 ][ 59 ] ==  chromosome=k99_2146180_flag=0_multi=1.0008_len=22324\n",
      "Output[ 2 ][ 60 ] ==  chromosome=k99_2353492_flag=0_multi=1.0109_len=11025\n",
      "Output[ 2 ][ 61 ] ==  chromosome=k99_713759_flag=0_multi=1.1007_len=8012\n",
      "Output[ 2 ][ 62 ] ==  chromosome=k99_2661351_flag=1_multi=1.0309_len=6637\n",
      "Output[ 2 ][ 63 ] ==  chromosome=k99_456142_flag=0_multi=1.1370_len=5545\n",
      "Output[ 2 ][ 64 ] ==  chromosome=k99_4605346_flag=1_multi=1.0005_len=83030\n",
      "Output[ 2 ][ 65 ] ==  chromosome=k99_3146727_flag=0_multi=1.0105_len=30748\n",
      "Output[ 2 ][ 66 ] ==  chromosome=k99_3899837_flag=0_multi=1.0000_len=12142\n",
      "Output[ 2 ][ 67 ] ==  chromosome=k99_4269318_flag=0_multi=1.0082_len=17357\n",
      "Output[ 2 ][ 68 ] ==  chromosome=k99_3146727_flag=0_multi=1.0105_len=30748\n",
      "Output[ 2 ][ 69 ] ==  chromosome=k99_3641453_flag=0_multi=1.0060_len=24284\n",
      "Output[ 2 ][ 70 ] ==  chromosome=k99_934956_flag=0_multi=1.0120_len=19779\n",
      "Output[ 2 ][ 71 ] ==  chromosome=k99_934956_flag=0_multi=1.0120_len=19779\n",
      "Output[ 2 ][ 72 ] ==  chromosome=k99_2905569_flag=0_multi=1.0053_len=17050\n",
      "Output[ 2 ][ 73 ] ==  chromosome=k99_648512_flag=1_multi=1.0168_len=6228\n",
      "Output[ 2 ][ 74 ] ==  chromosome=k99_2926458_flag=1_multi=1.0000_len=16229\n",
      "Output[ 2 ][ 75 ] ==  chromosome=k99_2146180_flag=0_multi=1.0008_len=22324\n",
      "Output[ 2 ][ 76 ] ==  chromosome=k99_2146180_flag=0_multi=1.0008_len=22324\n",
      "Output[ 2 ][ 77 ] ==  chromosome=k99_4605346_flag=1_multi=1.0005_len=83030\n",
      "Output[ 2 ][ 78 ] ==  chromosome=k99_992142_flag=0_multi=1.0172_len=8876\n",
      "Output[ 2 ][ 79 ] ==  chromosome=k99_3641453_flag=0_multi=1.0060_len=24284\n",
      "Output[ 2 ][ 80 ] ==  chromosome=k99_4605346_flag=1_multi=1.0005_len=83030\n",
      "Output[ 2 ][ 81 ] ==  chromosome=k99_4269318_flag=0_multi=1.0082_len=17357\n",
      "Output[ 2 ][ 82 ] ==  chromosome=k99_342695_flag=0_multi=1.0249_len=15268\n",
      "Output[ 2 ][ 83 ] ==  chromosome=k99_4605346_flag=1_multi=1.0005_len=83030\n",
      "Output[ 2 ][ 84 ] ==  chromosome=k99_3146727_flag=0_multi=1.0105_len=30748\n",
      "Output[ 2 ][ 85 ] ==  chromosome=k99_2146180_flag=0_multi=1.0008_len=22324\n",
      "Output[ 2 ][ 86 ] ==  chromosome=k99_2905569_flag=0_multi=1.0053_len=17050\n",
      "Output[ 2 ][ 87 ] ==  chromosome=k99_934956_flag=0_multi=1.0120_len=19779\n",
      "Output[ 2 ][ 88 ] ==  chromosome=k99_4605346_flag=1_multi=1.0005_len=83030\n",
      "Output[ 2 ][ 89 ] ==  chromosome=k99_1901315_flag=0_multi=1.1570_len=4730\n",
      "Output[ 2 ][ 90 ] ==  chromosome=k99_773160_flag=1_multi=1.0205_len=6743\n",
      "Output[ 2 ][ 91 ] ==  chromosome=k99_2146180_flag=0_multi=1.0008_len=22324\n",
      "Output[ 2 ][ 92 ] ==  chromosome=k99_4605346_flag=1_multi=1.0005_len=83030\n",
      "Output[ 2 ][ 93 ] ==  chromosome=k99_4605346_flag=1_multi=1.0005_len=83030\n",
      "Output[ 2 ][ 94 ] ==  chromosome=k99_342695_flag=0_multi=1.0249_len=15268\n",
      "Output[ 2 ][ 95 ] ==  chromosome=k99_2905569_flag=0_multi=1.0053_len=17050\n",
      "Output[ 2 ][ 96 ] ==  chromosome=k99_2146180_flag=0_multi=1.0008_len=22324\n",
      "Output[ 2 ][ 97 ] ==  chromosome=k99_3772118_flag=1_multi=1.0127_len=7027\n",
      "Output[ 2 ][ 98 ] ==  chromosome=k99_2353492_flag=0_multi=1.0109_len=11025\n",
      "Clustering 3 개수  125\n"
     ]
    }
   ],
   "source": [
    "records = list(SeqIO.parse(\"virus_tr.fastq\", \"fastq\"))\n",
    "records2 = list(SeqIO.parse(\"vi2.fastq\", \"fastq\"))\n",
    "records3 = list(SeqIO.parse(\"vi3.fastq\", \"fastq\"))\n",
    "\n",
    "\n",
    "for k in range(1,4): \n",
    "    print(\"Clustering\",k,\"개수 \",len(Output[k]))\n",
    "    for i in range(len(Output[k])): \n",
    "        \n",
    "        for a in range(len(records)):\n",
    "\n",
    "            if np.array_equal(X[a],Output[k][i]) == True:\n",
    "\n",
    "                print(\"Output[\",k ,\"][\", i,\"] == \",records[a].description.split(\";\")[3])\n",
    "                "
   ]
  },
  {
   "cell_type": "markdown",
   "metadata": {},
   "source": [
    "# Clustering 시각화"
   ]
  },
  {
   "cell_type": "code",
   "execution_count": 11,
   "metadata": {},
   "outputs": [
    {
     "data": {
      "image/png": "[encoded data removed]",
      "text/plain": [
       "<Figure size 432x288 with 1 Axes>"
      ]
     },
     "metadata": {
      "needs_background": "light"
     },
     "output_type": "display_data"
    }
   ],
   "source": [
    "color=['red','blue','green']\n",
    "labels=['cluster1','cluster2','cluster3']\n",
    "for k in range(K):\n",
    "    plt.scatter(Output[k+1][:,0],Output[k+1][:,1],c=color[k],label=labels[k])\n",
    "plt.scatter(Centroids[0,:],Centroids[1,:],s=300,c='yellow',label='Centroids')\n",
    "\n",
    "plt.legend()\n",
    "plt.show()\n"
   ]
  },
  {
   "cell_type": "markdown",
   "metadata": {},
   "source": [
    "# TSNE 시각화"
   ]
  },
  {
   "cell_type": "code",
   "execution_count": 12,
   "metadata": {},
   "outputs": [
    {
     "name": "stderr",
     "output_type": "stream",
     "text": [
      "/Users/suhyeonglee/opt/anaconda3/envs/tensorflow/lib/python3.7/site-packages/seaborn/_decorators.py:43: FutureWarning: Pass the following variables as keyword args: x, y. From version 0.12, the only valid positional argument will be `data`, and passing other arguments without an explicit keyword will result in an error or misinterpretation.\n",
      "  FutureWarning\n"
     ]
    },
    {
     "data": {
      "text/plain": [
       "<AxesSubplot:>"
      ]
     },
     "execution_count": 12,
     "metadata": {},
     "output_type": "execute_result"
    },
    {
     "data": {
      "image/png": "[encoded data removed]",
      "text/plain": [
       "<Figure size 720x720 with 1 Axes>"
      ]
     },
     "metadata": {
      "needs_background": "light"
     },
     "output_type": "display_data"
    }
   ],
   "source": [
    "data = np.append(Output[1],Output[2],axis=0)\n",
    "data2 = np.append(data,Output[3],axis=0)\n",
    "\n",
    "labels  = [\"cluster1\" for x in range(len(Output[1]))]\n",
    "labels  += [\"cluster2\" for x in range(len(Output[2]))]\n",
    "labels  += [\"cluster3\" for x in range(len(Output[3]))]\n",
    "labels = np.array(labels)\n",
    "\n",
    "\n",
    "tsne = TSNE(n_components=2)\n",
    "data_2d = tsne.fit_transform(data2)\n",
    "fig = plt.figure(figsize=(10, 10))\n",
    "sns.scatterplot(data_2d[:,0], data_2d[:,1], hue=labels)"
   ]
  },
  {
   "cell_type": "markdown",
   "metadata": {},
   "source": [
    "# 대조군이 있을때 대조군과의 유사도 확인"
   ]
  },
  {
   "cell_type": "code",
   "execution_count": 13,
   "metadata": {},
   "outputs": [],
   "source": [
    "#대조 Data\n",
    "ho1 = np.loadtxt(\"ho1.txt\")\n",
    "ho2 = np.loadtxt(\"ho2.txt\")\n",
    "ho3 = np.loadtxt(\"ho3.txt\")\n",
    "ho4 = np.loadtxt(\"ho4.txt\")"
   ]
  },
  {
   "cell_type": "code",
   "execution_count": 14,
   "metadata": {},
   "outputs": [
    {
     "name": "stdout",
     "output_type": "stream",
     "text": [
      "ID: m1/3000/CCS\n",
      "Name: m1/3000/CCS\n",
      "Description: m1/3000/CCS Read=1;length=3000bp;startpos=0;chromosome=NC_010681.1#3k#399057#402056;numberOfErrors=80;totalErrorProb=0.0212;passes=3.813563723790725;passesLeft=3;passesRight=4;cutPosition=559\n",
      "Number of features: 0\n",
      "Per letter annotation for: phred_quality\n",
      "Seq('TCGATCCAGTGCAGCGGGCGAGGCGCATCGACGGCTTGCGCGGGCGACATCGGT...TCC')\n"
     ]
    }
   ],
   "source": [
    "from Bio import SeqIO\n",
    "records = list(SeqIO.parse(\"ho1.fastq\", \"fastq\"))\n",
    "print(records[1])"
   ]
  },
  {
   "cell_type": "markdown",
   "metadata": {},
   "source": [
    "# 코사인 유사도 함수"
   ]
  },
  {
   "cell_type": "code",
   "execution_count": 15,
   "metadata": {},
   "outputs": [],
   "source": [
    "from numpy import dot\n",
    "from numpy.linalg import norm\n",
    "\n",
    "\n",
    "# cos 유사도를 이용해 분류 계산\n",
    "def cos_sim(A, B):\n",
    "       return dot(A, B)/(norm(A)*norm(B))\n",
    "\n",
    "#클러스터링 된것의 center점과 특정 비교군 계산\n",
    "def calculate(data):\n",
    "    cnt = [0 for i in range(K)]\n",
    "    for i in range(len(data)):\n",
    "        for j in range(len(cnt)):\n",
    "            #print(cos_sim(data[i],Centroids[:,j]))\n",
    "            cnt[j]= cnt[j]+cos_sim(data[i],Centroids[:,j])\n",
    "    \n",
    "    \n",
    "    num = cnt.index(max(cnt))+1\n",
    "    per = max(cnt)/len(data)*100\n",
    "    return per,num\n",
    "\n",
    "def printcal(data):\n",
    "    cnt = [0 for i in range(len(data))]\n",
    "    for i in range(len(data)):\n",
    "#         if(cnt[calculate(data[i])[1]]<=calculate(data[i])[0]):\n",
    "#             cnt[calculate(data[i])[1]] = calculate(data[i])[0]\n",
    "        print(i+1,\"번 비교군은 클러스터\" ,calculate(data[i])[1],\"번과 코사인유사도\",calculate(data[i])[0],\"% 유사\" )\n",
    "\n"
   ]
  },
  {
   "cell_type": "markdown",
   "metadata": {},
   "source": [
    "# 코사인유사도 결과"
   ]
  },
  {
   "cell_type": "code",
   "execution_count": 16,
   "metadata": {},
   "outputs": [
    {
     "name": "stdout",
     "output_type": "stream",
     "text": [
      "1 번 비교군은 클러스터 2 번과 코사인유사도 92.49650624243357 % 유사\n",
      "2 번 비교군은 클러스터 2 번과 코사인유사도 91.49863876791427 % 유사\n",
      "3 번 비교군은 클러스터 3 번과 코사인유사도 92.97401854989687 % 유사\n",
      "4 번 비교군은 클러스터 1 번과 코사인유사도 92.77811542665654 % 유사\n",
      "\n",
      "1 번 비교군은 클러스터 1 번과 코사인유사도 94.31506250243672 % 유사\n",
      "2 번 비교군은 클러스터 2 번과 코사인유사도 98.80338472268454 % 유사\n",
      "3 번 비교군은 클러스터 3 번과 코사인유사도 98.43976908255104 % 유사\n"
     ]
    }
   ],
   "source": [
    "arr = [ho1,ho2,ho3,ho4]\n",
    "printcal(arr)\n",
    "print()\n",
    "\n",
    "arr2=[vi,vi2,vi3]\n",
    "printcal(arr2)"
   ]
  },
  {
   "cell_type": "markdown",
   "metadata": {},
   "source": [
    "# 마할라노비스 거리 이용"
   ]
  },
  {
   "cell_type": "code",
   "execution_count": 18,
   "metadata": {},
   "outputs": [],
   "source": [
    "from scipy.spatial import distance\n",
    "\n",
    "V=np.cov(X.T)\n",
    "tempnum=9999\n",
    "ma= [[0 for j in range(2)] for i in range(len(X))]\n",
    "for i in range(300):\n",
    "    tempnum=9999\n",
    "    for j in range(100):\n",
    "        for k in range(3):\n",
    "            l=distance.mahalanobis(X[i],arr[k][j],V.T)\n",
    "            if l<=tempnum :\n",
    "                tempnum=l\n",
    "                ma[i][0]=tempnum\n",
    "                ma[i][1]=k\n",
    "               \n"
   ]
  },
  {
   "cell_type": "code",
   "execution_count": 21,
   "metadata": {},
   "outputs": [
    {
     "data": {
      "image/png": "[encoded data removed]",
      "text/plain": [
       "<Figure size 432x288 with 1 Axes>"
      ]
     },
     "metadata": {
      "needs_background": "light"
     },
     "output_type": "display_data"
    }
   ],
   "source": [
    "\n",
    "for k in range(300):\n",
    "    plt.scatter(ma[k][0],ma[k][1])\n",
    "plt.show()\n",
    "\n"
   ]
  },
  {
   "cell_type": "code",
   "execution_count": null,
   "metadata": {},
   "outputs": [],
   "source": []
  },
  {
   "cell_type": "code",
   "execution_count": null,
   "metadata": {},
   "outputs": [],
   "source": []
  }
 ],
 "metadata": {
  "kernelspec": {
   "display_name": "Python 3",
   "language": "python",
   "name": "python3"
  },
  "language_info": {
   "codemirror_mode": {
    "name": "ipython",
    "version": 3
   },
   "file_extension": ".py",
   "mimetype": "text/x-python",
   "name": "python",
   "nbconvert_exporter": "python",
   "pygments_lexer": "ipython3",
   "version": "3.7.8"
  }
 },
 "nbformat": 4,
 "nbformat_minor": 4
}
