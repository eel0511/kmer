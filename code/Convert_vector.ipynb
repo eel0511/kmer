{
 "cells": [
  {
   "cell_type": "code",
   "execution_count": null,
   "metadata": {},
   "outputs": [],
   "source": [
    "\n",
    "#simlord라는 TOOL 이용해서 fasta -> fastq 변환\n",
    "#이후 vectorize하여 값을 txt로 저장\n",
    "\n",
    "!simlord --no-sam -rr virus_tr.fa -n 100 -mr 1500 virus_tr\n",
    "\n",
    "!./vectorize ./virus_tr.fastq 4 8 100 > ./virus_tr.txt\n",
    "\n",
    "!simlord --no-sam -rr vi2.fasta -n 100 -mr 1500 vi2\n",
    "!./vectorize ./PA.fastq 4 8 100 > ./vi2.txt\n",
    "\n",
    "!simlord --no-sam -rr vi3.fasta -n 100 -mr 1500 vi3\n",
    "!./vectorize ./SA.fastq 4 8 100 > ./vi3.txt\n",
    "\n",
    "!simlord --no-sam -rr m.fa -n 100 -mr 1500 m\n",
    "!./vectorize ./m.fastq 4 8 100 > ./m.txt\n",
    "\n",
    "!simlord --no-sam -rr ho1.fa -n 100 -mr 1500 ho1\n",
    "!./vectorize ./ho1.fastq 4 8 100 > ./ho1.txt\n",
    "\n",
    "!simlord --no-sam -rr ho2.fa -n 100 -mr 1500 ho2\n",
    "!./vectorize ./ho2.fastq 4 8 100 > ./ho2.txt\n",
    "\n",
    "!simlord --no-sam -rr ho3.fa -n 100 -mr 1500 ho3\n",
    "!./vectorize ./ho3.fastq 4 8 100 > ./ho3.txt\n",
    "\n",
    "!simlord --no-sam -rr ho4.fa -n 100 -mr 1500 ho4\n",
    "!./vectorize ./ho4.fastq 4 8 100 > ./ho4.txt\n"
   ]
  }
 ],
 "metadata": {
  "kernelspec": {
   "display_name": "Python 3",
   "language": "python",
   "name": "python3"
  },
  "language_info": {
   "codemirror_mode": {
    "name": "ipython",
    "version": 3
   },
   "file_extension": ".py",
   "mimetype": "text/x-python",
   "name": "python",
   "nbconvert_exporter": "python",
   "pygments_lexer": "ipython3",
   "version": "3.7.8"
  }
 },
 "nbformat": 4,
 "nbformat_minor": 4
}
